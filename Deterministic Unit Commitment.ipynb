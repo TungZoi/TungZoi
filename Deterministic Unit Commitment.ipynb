{
 "cells": [
  {
   "cell_type": "code",
   "execution_count": 1,
   "id": "5c6c911c",
   "metadata": {},
   "outputs": [],
   "source": [
    "import pandas as pd\n",
    "import pyomo.environ as pe\n",
    "import pyomo.opt as po"
   ]
  },
  {
   "cell_type": "code",
   "execution_count": 2,
   "id": "32c257d3",
   "metadata": {},
   "outputs": [],
   "source": [
    "Time_periods = pe.RangeSet(1, 6)\n",
    "Generating_units = pe.RangeSet(1, 3)\n",
    "\n",
    "#Generating units data\n",
    "c = {1: 5, 2: 15, 3: 30} #Cost of producing\n",
    "c_U = {1: 800, 2: 500, 3: 250} #Start up cost\n",
    "P_min = {1: 80, 2: 50, 3: 30} #Output lower limit\n",
    "P_max = {1: 300, 2: 200, 3: 100} #Output upper limit\n",
    "S_up = {1: 100, 2: 70, 3: 40} #Maximum starup rate\n",
    "S_down = {1: 80, 2: 50, 3: 30} #Maximum shutdown rate\n",
    "R_up = {1: 50, 2: 60, 3: 70} #Maximum ramp-up rate\n",
    "R_down = {1: 30, 2: 40, 3: 50} #Maximum ramp-down rate\n",
    "T_up = {1: 3, 2: 2, 3: 1} #Minimum number of time periods required to be on before it can turn off\n",
    "T_down = {1: 2, 2: 2, 3: 2} #Minimum number of time periods required to be off before it can turn on\n",
    "\n",
    "#Units operating conditions at t=0\n",
    "v0 = {1: 1, 2: 0, 3: 0} #On/off status at t=0\n",
    "p0 = {1: 120, 2: 0, 3: 0} #Output at t=0\n",
    "U0 = {1: 2, 2: 0, 3: 0} #Number of time periods required to be on at the start of the planning horizon\n",
    "D0 = {1: 0, 2: 0, 3: 0} #Number of time periods required to be off at the start of the planning horizon\n",
    "\n",
    "Demand = {1: 240, 2: 250, 3: 200, 4: 170, 5: 230, 6: 190} #Hourly load forecast\n",
    "Reserve = {1: 10, 2: 10, 3: 10, 4: 10, 5: 10, 6: 10} #Spinning reserve requirement"
   ]
  },
  {
   "cell_type": "code",
   "execution_count": 3,
   "id": "ed9183cc",
   "metadata": {},
   "outputs": [],
   "source": [
    "#Determine solver\n",
    "solver = po.SolverFactory('cplex')"
   ]
  },
  {
   "cell_type": "code",
   "execution_count": 4,
   "id": "8d8f5563",
   "metadata": {},
   "outputs": [],
   "source": [
    "#Create optmization model\n",
    "model = pe.ConcreteModel()"
   ]
  },
  {
   "cell_type": "code",
   "execution_count": 5,
   "id": "1e274e3f",
   "metadata": {},
   "outputs": [],
   "source": [
    "#Sets\n",
    "model.Time_periods = pe.Set(initialize=Time_periods)\n",
    "model.Generating_units = pe.Set(initialize=Generating_units)"
   ]
  },
  {
   "cell_type": "code",
   "execution_count": 6,
   "id": "db9533bf",
   "metadata": {},
   "outputs": [],
   "source": [
    "#Constants/Parameters\n",
    "\n",
    "#Generating units parameters\n",
    "model.c = pe.Param(model.Generating_units, initialize=c)\n",
    "model.c_U = pe.Param(model.Generating_units, initialize=c_U)\n",
    "model.P_min = pe.Param(model.Generating_units, initialize=P_min)\n",
    "model.P_max = pe.Param(model.Generating_units, initialize=P_max)\n",
    "model.S_up = pe.Param(model.Generating_units, initialize=S_up)\n",
    "model.S_down = pe.Param(model.Generating_units, initialize=S_down)\n",
    "model.R_up = pe.Param(model.Generating_units, initialize=R_up)\n",
    "model.R_down = pe.Param(model.Generating_units, initialize=R_down)\n",
    "model.T_up = pe.Param(model.Generating_units, initialize=T_up)\n",
    "model.T_down = pe.Param(model.Generating_units, initialize=T_down)\n",
    "\n",
    "#Generating units operation conditions at t=0 parameters\n",
    "model.v0 = pe.Param(model.Generating_units, initialize=v0)\n",
    "model.p0 = pe.Param(model.Generating_units, initialize=p0)\n",
    "model.U0 = pe.Param(model.Generating_units, initialize=U0)\n",
    "model.D0 = pe.Param(model.Generating_units, initialize=D0)\n",
    "\n",
    "#Net demands and reserve requirements parameters\n",
    "model.Demand = pe.Param(model.Time_periods, initialize=Demand)\n",
    "model.Reserve = pe.Param(model.Time_periods, initialize=Reserve)"
   ]
  },
  {
   "cell_type": "code",
   "execution_count": 7,
   "id": "140736ec",
   "metadata": {},
   "outputs": [],
   "source": [
    "#Variables\n",
    "\n",
    "#Active power produced\n",
    "model.p = pe.Var(model.Generating_units, model.Time_periods, domain=pe.NonNegativeReals)\n",
    "\n",
    "#Maximum available power\n",
    "model.p_max = pe.Var(model.Generating_units, model.Time_periods, domain=pe.NonNegativeReals)\n",
    "\n",
    "#Binary variables\n",
    "model.v = pe.Var(model.Generating_units, model.Time_periods, domain=pe.Binary) #On/off status\n",
    "model.y = pe.Var(model.Generating_units, model.Time_periods, domain=pe.Binary) #Startup status\n",
    "model.z = pe.Var(model.Generating_units, model.Time_periods, domain=pe.Binary) #Shutdown status"
   ]
  },
  {
   "cell_type": "code",
   "execution_count": 8,
   "id": "37e96381",
   "metadata": {},
   "outputs": [],
   "source": [
    "#Objective function (2.1)\n",
    "expr = sum(model.c[j]*model.p[j,t] + model.c_U[j]* model.y[j,t]\n",
    "           for j in model.Generating_units for t in Time_periods)\n",
    "model.objective = pe.Objective(sense=pe.minimize, expr=expr)"
   ]
  },
  {
   "cell_type": "code",
   "execution_count": 9,
   "id": "d5425244",
   "metadata": {},
   "outputs": [],
   "source": [
    "#Constraint (2.2): Demand-Generation balancing requirement\n",
    "model.Constraint22 = pe.ConstraintList()\n",
    "for t in model.Time_periods:\n",
    "    lhs = sum(model.p[j,t] for j in model.Generating_units)\n",
    "    rhs = model.Demand[t]\n",
    "    model.Constraint22.add(lhs == rhs)"
   ]
  },
  {
   "cell_type": "code",
   "execution_count": 10,
   "id": "fd3e5573",
   "metadata": {},
   "outputs": [],
   "source": [
    "#Constraint (2.3): Total maximum available production capacity = Demand + Reserve\n",
    "model.Constraint23 = pe.ConstraintList()\n",
    "for t in model.Time_periods:\n",
    "    lhs = sum(model.p_max[j,t] for j in model.Generating_units)\n",
    "    rhs = model.Demand[t] + model.Reserve[t]\n",
    "    model.Constraint23.add(lhs >= rhs)"
   ]
  },
  {
   "cell_type": "code",
   "execution_count": 11,
   "id": "2c21b988",
   "metadata": {},
   "outputs": [],
   "source": [
    "#Constraint (2.5): To ensure the logical coherence\n",
    "model.Constraint25 = pe.ConstraintList()\n",
    "for j in model.Generating_units:\n",
    "    for t in model.Time_periods:\n",
    "        if t-1 <1:\n",
    "            lhs = model.v0[j] - model.v[j,t] + model.y[j,t] - model.z[j,t]\n",
    "        if t-1 >= 1:\n",
    "            lhs = model.v[j,t-1] - model.v[j,t] + model.y[j,t] - model.z[j,t]\n",
    "        rhs = 0\n",
    "        model.Constraint25.add(lhs == rhs)"
   ]
  },
  {
   "cell_type": "code",
   "execution_count": 12,
   "id": "d72c8069",
   "metadata": {},
   "outputs": [],
   "source": [
    "#Constraint (2.7): Ramping up constraint\n",
    "model.Constraint27 = pe.ConstraintList()\n",
    "for j in model.Generating_units:\n",
    "    for t in model.Time_periods:\n",
    "        if t-1 <1:\n",
    "            lhs = model.p[j,t] - model.p0[j]\n",
    "            rhs = model.R_up[j]*model.v0[j] + model.S_up[j]*model.y[j,t]\n",
    "        if t-1 >= 1:\n",
    "            lhs = model.p[j,t] - model.p[j,t-1]\n",
    "            rhs = model.R_up[j]*model.v[j,t-1] + model.S_up[j]*model.y[j,t]\n",
    "        model.Constraint27.add(lhs <= rhs)"
   ]
  },
  {
   "cell_type": "code",
   "execution_count": 13,
   "id": "076aa1b4",
   "metadata": {},
   "outputs": [],
   "source": [
    "#Constraint (2.8): Ramping down constraint\n",
    "model.Constraint28 = pe.ConstraintList()\n",
    "for j in model.Generating_units:\n",
    "    for t in model.Time_periods:\n",
    "        if t-1 <1:\n",
    "            lhs = model.p0[j] - model.p[j,t]\n",
    "        if t-1 >= 1:\n",
    "            lhs = model.p[j,t-1] - model.p[j,t]\n",
    "        rhs = model.R_down[j]*model.v[j,t] + model.S_down[j]*model.z[j,t]\n",
    "        model.Constraint28.add(lhs <= rhs)"
   ]
  },
  {
   "cell_type": "code",
   "execution_count": 14,
   "id": "2f35df61",
   "metadata": {},
   "outputs": [],
   "source": [
    "#Constraint (2.9): Uptime constraint\n",
    "model.Constraint29 = pe.ConstraintList()\n",
    "for j in model.Generating_units:\n",
    "    for t in range(min(len(Time_periods),model.U0[j])+1, len(Time_periods)):\n",
    "        lhs = sum(model.y[j,k]\n",
    "                  for k in range(max(1,t-model.T_up[j])+1,t))\n",
    "        rhs = model.v[j,t]\n",
    "    model.Constraint29.add(lhs <= rhs)"
   ]
  },
  {
   "cell_type": "code",
   "execution_count": 15,
   "id": "d70dea66",
   "metadata": {},
   "outputs": [],
   "source": [
    "#Constraint (2.10): Downtime constraint\n",
    "model.Constraint210 = pe.ConstraintList()\n",
    "for j in model.Generating_units:\n",
    "    for t in range(min(len(Time_periods),model.D0[j])+1, len(Time_periods)):\n",
    "        lhs = model.v[j,t] + sum(model.z[j,k]\n",
    "                  for k in range(max(1,t-model.T_down[j])+1,t))\n",
    "        rhs = 1\n",
    "    model.Constraint210.add(lhs <= rhs)"
   ]
  },
  {
   "cell_type": "code",
   "execution_count": 16,
   "id": "478dbbd2",
   "metadata": {},
   "outputs": [],
   "source": [
    "#Constraint (2.11a): Generation Limits\n",
    "model.Constraint211a = pe.ConstraintList()\n",
    "for j in model.Generating_units:\n",
    "    for t in model.Time_periods:\n",
    "        lhs = model.P_min[j]*model.v[j,t]\n",
    "        rhs = model.p[j,t]\n",
    "        model.Constraint211a.add(lhs <= rhs)"
   ]
  },
  {
   "cell_type": "code",
   "execution_count": 17,
   "id": "1d256216",
   "metadata": {},
   "outputs": [],
   "source": [
    "#Constraint (2.11b): Generation Limits\n",
    "model.Constraint211b = pe.ConstraintList()\n",
    "for j in model.Generating_units:\n",
    "    for t in model.Time_periods:\n",
    "        lhs = model.p[j,t]\n",
    "        rhs = model.p_max[j,t]\n",
    "        model.Constraint211b.add(lhs <= rhs)"
   ]
  },
  {
   "cell_type": "code",
   "execution_count": 18,
   "id": "8f7e5180",
   "metadata": {},
   "outputs": [],
   "source": [
    "#Constraint (2.11c): Generation Limits\n",
    "model.Constraint211c = pe.ConstraintList()\n",
    "for j in model.Generating_units:\n",
    "    for t in model.Time_periods:\n",
    "        lhs = model.p_max[j,t]\n",
    "        rhs = model.P_max[j]*model.v[j,t]\n",
    "        model.Constraint211c.add(lhs <= rhs)"
   ]
  },
  {
   "cell_type": "code",
   "execution_count": 19,
   "id": "40de0810",
   "metadata": {},
   "outputs": [],
   "source": [
    "#Constraint (2.12): Generation Limits\n",
    "model.Constraint212 = pe.ConstraintList()\n",
    "for j in model.Generating_units:\n",
    "    for t in model.Time_periods:\n",
    "        lhs = model.p_max[j,t]\n",
    "        if t-1 < 1:\n",
    "            rhs = model.p0[j] + model.R_up[j]*model.v0[j] + model.S_up[j]*model.y[j,t]\n",
    "        if t-1 >= 1:\n",
    "            rhs = model.p[j,t-1] + model.R_up[j]*model.v[j,t-1] + model.S_up[j]*model.y[j,t]\n",
    "        model.Constraint212.add(lhs <= rhs)"
   ]
  },
  {
   "cell_type": "code",
   "execution_count": 20,
   "id": "ca533ada",
   "metadata": {},
   "outputs": [],
   "source": [
    "#Constraint (2.13): Generation Limits\n",
    "model.Constraint213 = pe.ConstraintList()\n",
    "for j in model.Generating_units:\n",
    "    for t in range(1, len(Time_periods)-1):\n",
    "        lhs = model.p_max[j,t]\n",
    "        rhs = model.P_max[j]*(model.v[j,t]-model.z[j,t+1]) + model.z[j,t+1]*model.S_down[j]\n",
    "        model.Constraint213.add(lhs <= rhs)"
   ]
  },
  {
   "cell_type": "code",
   "execution_count": 21,
   "id": "ec120d5e",
   "metadata": {},
   "outputs": [
    {
     "name": "stdout",
     "output_type": "stream",
     "text": [
      "\n",
      "Welcome to IBM(R) ILOG(R) CPLEX(R) Interactive Optimizer 22.1.0.0\n",
      "  with Simplex, Mixed Integer & Barrier Optimizers\n",
      "5725-A06 5725-A29 5724-Y48 5724-Y49 5724-Y54 5724-Y55 5655-Y21\n",
      "Copyright IBM Corp. 1988, 2022.  All Rights Reserved.\n",
      "\n",
      "Type 'help' for a list of available commands.\n",
      "Type 'help' followed by a command name for more\n",
      "information on commands.\n",
      "\n",
      "CPLEX> Logfile 'cplex.log' closed.\n",
      "Logfile 'C:\\Users\\G33590~1\\AppData\\Local\\Temp\\tmpmlg8lrd3.cplex.log' open.\n",
      "CPLEX> Problem 'C:\\Users\\G33590~1\\AppData\\Local\\Temp\\tmppd36_vfb.pyomo.lp' read.\n",
      "Read time = 0.00 sec. (0.01 ticks)\n",
      "CPLEX> Problem name         : C:\\Users\\G33590~1\\AppData\\Local\\Temp\\tmppd36_vfb.pyomo.lp\n",
      "Objective sense      : Minimize\n",
      "Variables            :      91  [Nneg: 37,  Binary: 54]\n",
      "Objective nonzeros   :      36\n",
      "Linear constraints   :     157  [Less: 125,  Greater: 7,  Equal: 25]\n",
      "  Nonzeros           :     463\n",
      "  RHS nonzeros       :      20\n",
      "\n",
      "Variables            : Min LB: 0.0000000        Max UB: 1.000000       \n",
      "Objective nonzeros   : Min   : 5.000000         Max   : 800.0000       \n",
      "Linear constraints   :\n",
      "  Nonzeros           : Min   : 1.000000         Max   : 300.0000       \n",
      "  RHS nonzeros       : Min   : 1.000000         Max   : 260.0000       \n",
      "CPLEX> Version identifier: 22.1.0.0 | 2022-03-09 | 1a383f8ce\n",
      "Tried aggregator 2 times.\n",
      "MIP Presolve eliminated 24 rows and 8 columns.\n",
      "MIP Presolve modified 15 coefficients.\n",
      "Aggregator did 3 substitutions.\n",
      "Reduced MIP has 130 rows, 80 columns, and 384 nonzeros.\n",
      "Reduced MIP has 46 binaries, 0 generals, 0 SOSs, and 0 indicators.\n",
      "Presolve time = 0.00 sec. (0.29 ticks)\n",
      "Found incumbent of value 20450.000000 after 0.02 sec. (0.69 ticks)\n",
      "Probing fixed 1 vars, tightened 4 bounds.\n",
      "Probing time = 0.00 sec. (0.17 ticks)\n",
      "Cover probing fixed 0 vars, tightened 2 bounds.\n",
      "Tried aggregator 1 time.\n",
      "Detecting symmetries...\n",
      "MIP Presolve eliminated 2 rows and 2 columns.\n",
      "MIP Presolve modified 5 coefficients.\n",
      "Reduced MIP has 128 rows, 78 columns, and 376 nonzeros.\n",
      "Reduced MIP has 44 binaries, 0 generals, 0 SOSs, and 0 indicators.\n",
      "Presolve time = 0.00 sec. (0.31 ticks)\n",
      "Probing time = 0.02 sec. (0.14 ticks)\n",
      "Clique table members: 88.\n",
      "MIP emphasis: balance optimality and feasibility.\n",
      "MIP search method: dynamic search.\n",
      "Parallel mode: deterministic, using up to 8 threads.\n",
      "Root relaxation solution time = 0.00 sec. (0.18 ticks)\n",
      "\n",
      "        Nodes                                         Cuts/\n",
      "   Node  Left     Objective  IInf  Best Integer    Best Bound    ItCnt     Gap\n",
      "\n",
      "*     0+    0                        20450.0000     1550.0000            92.42%\n",
      "*     0+    0                        17250.0000     1550.0000            91.01%\n",
      "      0     0     8347.5000     8    17250.0000     8347.5000       26   51.61%\n",
      "*     0+    0                         9700.0000     8347.5000            13.94%\n",
      "      0     0     9200.0000     6     9700.0000      Cuts: 25       42    5.15%\n",
      "*     0+    0                         9200.0000     9200.0000             0.00%\n",
      "      0     0        cutoff           9200.0000     9200.0000       42    0.00%\n",
      "Elapsed time = 0.11 sec. (2.59 ticks, tree = 0.01 MB, solutions = 4)\n",
      "\n",
      "Clique cuts applied:  3\n",
      "Cover cuts applied:  3\n",
      "Implied bound cuts applied:  7\n",
      "Flow cuts applied:  5\n",
      "Lift and project cuts applied:  2\n",
      "Gomory fractional cuts applied:  1\n",
      "\n",
      "Root node processing (before b&c):\n",
      "  Real time             =    0.11 sec. (2.59 ticks)\n",
      "Parallel b&c, 8 threads:\n",
      "  Real time             =    0.00 sec. (0.00 ticks)\n",
      "  Sync time (average)   =    0.00 sec.\n",
      "  Wait time (average)   =    0.00 sec.\n",
      "                          ------------\n",
      "Total (root+branch&cut) =    0.11 sec. (2.59 ticks)\n",
      "\n",
      "Solution pool: 4 solutions saved.\n",
      "\n",
      "MIP - Integer optimal solution:  Objective =  9.2000000000e+03\n",
      "Solution time =    0.13 sec.  Iterations = 42  Nodes = 0\n",
      "Deterministic time = 2.59 ticks  (20.74 ticks/sec)\n",
      "\n",
      "CPLEX> Incumbent solution written to file 'C:\\Users\\G33590~1\\AppData\\Local\\Temp\\tmph9z8s8le.cplex.sol'.\n",
      "CPLEX> "
     ]
    }
   ],
   "source": [
    "results = solver.solve(model, tee=True)"
   ]
  }
 ],
 "metadata": {
  "kernelspec": {
   "display_name": "Python 3 (ipykernel)",
   "language": "python",
   "name": "python3"
  },
  "language_info": {
   "codemirror_mode": {
    "name": "ipython",
    "version": 3
   },
   "file_extension": ".py",
   "mimetype": "text/x-python",
   "name": "python",
   "nbconvert_exporter": "python",
   "pygments_lexer": "ipython3",
   "version": "3.9.7"
  }
 },
 "nbformat": 4,
 "nbformat_minor": 5
}
